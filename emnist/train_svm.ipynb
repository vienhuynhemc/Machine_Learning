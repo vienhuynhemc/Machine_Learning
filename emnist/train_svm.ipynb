{
    "cells": [
        {
            "cell_type": "code",
            "execution_count": 1,
            "source": [
                "\r\n",
                "def get_images(img_file, number):\r\n",
                "    f = open(img_file, \"rb\")  # Open file in binary mode\r\n",
                "    f.read(16)  # Skip 16 bytes header\r\n",
                "    images = []\r\n",
                "\r\n",
                "    for i in range(number):\r\n",
                "        image = []\r\n",
                "        for j in range(28 * 28):\r\n",
                "            image.append(ord(f.read(1)))\r\n",
                "        images.append(image)\r\n",
                "    return images\r\n",
                "\r\n",
                "\r\n",
                "def get_labels(label_file, number):\r\n",
                "    l = open(label_file, \"rb\")  # Open file in binary mode\r\n",
                "    l.read(8)  # Skip 8 bytes header\r\n",
                "    labels = []\r\n",
                "    for i in range(number):\r\n",
                "        labels.append(ord(l.read(1)))\r\n",
                "    return labels\r\n",
                "\r\n",
                "from sklearn.metrics import plot_confusion_matrix\r\n",
                "\r\n",
                "import numpy as np\r\n",
                "from sklearn import svm, metrics\r\n",
                "from mnist import MNIST\r\n",
                "import cv2\r\n",
                "import matplotlib.pyplot as plt\r\n",
                "\r\n",
                "mndata = MNIST('data')\r\n",
                "# This will load the train and test data\r\n",
                "\r\n",
                "X_train, y_train = mndata.load('data/emnist-byclass-train-images-idx3-ubyte',\r\n",
                "                                'data/emnist-byclass-train-labels-idx1-ubyte')\r\n",
                "X_test, y_test = mndata.load('data/emnist-byclass-test-images-idx3-ubyte',\r\n",
                "                                'data/emnist-byclass-test-labels-idx1-ubyte')\r\n",
                "\r\n",
                "# Train\r\n",
                "\r\n",
                "print(\"Train\")\r\n",
                "TRAINING_SIZE = 300000\r\n",
                "\r\n",
                "X_train = get_images(\"data/emnist-byclass-train-images-idx3-ubyte\", TRAINING_SIZE)\r\n",
                "\r\n",
                "X_train = np.array(X_train) / 255.0\r\n",
                "\r\n",
                "y_train = get_labels(\"data/emnist-byclass-train-labels-idx1-ubyte\", TRAINING_SIZE)\r\n",
                "\r\n",
                "\r\n",
                "\r\n",
                "# Test\r\n",
                "\r\n",
                "img = cv2.imread(\"preview/000000-num35.png\")\r\n",
                "i = np.array(img) / 255.0\r\n",
                "\r\n",
                "# plt.imshow(img)\r\n",
                "# plt.show()\r\n",
                "\r\n",
                "TEST_SIZE = 50000\r\n",
                "X_test = get_images(\"data/emnist-byclass-test-images-idx3-ubyte\", TEST_SIZE)\r\n",
                "\r\n",
                "X_test = np.array(X_test) / 255.0\r\n",
                "\r\n",
                "y_test = get_labels(\"data/emnist-byclass-test-labels-idx1-ubyte\", TEST_SIZE)\r\n",
                "\r\n",
                "\r\n",
                "print(np.ndim(X_train))\r\n",
                "\r\n",
                "\r\n",
                "\r\n",
                "\r\n",
                "\r\n",
                "\r\n",
                "    \r\n",
                "\r\n",
                "\r\n",
                "\r\n",
                "\r\n",
                "\r\n",
                "\r\n",
                "\r\n",
                "\r\n",
                "\r\n",
                "\r\n"
            ],
            "outputs": [
                {
                    "output_type": "stream",
                    "name": "stdout",
                    "text": [
                        "Train\n",
                        "2\n"
                    ]
                }
            ],
            "metadata": {}
        },
        {
            "cell_type": "code",
            "execution_count": 2,
            "source": [
                "#Reshaping all images into 28*28 for pre-processing\r\n",
                "\r\n",
                "\r\n",
                "\r\n",
                "\r\n",
                "X_train = X_train.reshape(X_train.shape[0], 28,28)\r\n",
                "X_test = X_test.reshape(X_test.shape[0],28,28)\r\n",
                "\r\n",
                "print(X_train.shape)\r\n"
            ],
            "outputs": [
                {
                    "output_type": "stream",
                    "name": "stdout",
                    "text": [
                        "(300000, 28, 28)\n"
                    ]
                }
            ],
            "metadata": {}
        },
        {
            "cell_type": "code",
            "execution_count": 3,
            "source": [
                "from matplotlib import pyplot as plt\r\n",
                "#Display a random image\r\n",
                "plt.imshow(X_train[1])\r\n",
                "plt.show()\r\n",
                "plt.imshow(X_test[1])\r\n",
                "plt.show()"
            ],
            "outputs": [
                {
                    "output_type": "display_data",
                    "data": {
                        "text/plain": [
                            "<Figure size 640x480 with 1 Axes>"
                        ],
                        "image/png": "[encoded data removed]"
                    },
                    "metadata": {}
                },
                {
                    "output_type": "display_data",
                    "data": {
                        "text/plain": [
                            "<Figure size 640x480 with 1 Axes>"
                        ],
                        "image/png": "[encoded data removed]"
                    },
                    "metadata": {}
                }
            ],
            "metadata": {}
        },
        {
            "cell_type": "code",
            "execution_count": 4,
            "source": [
                "#Y'all can see how an image array looks like. all float values b/w 0 and 1\r\n",
                "m = X_train[2]\r\n",
                "# print(m)"
            ],
            "outputs": [],
            "metadata": {}
        },
        {
            "cell_type": "code",
            "execution_count": 5,
            "source": [
                "#for train data\r\n",
                "for t in range(TRAINING_SIZE):\r\n",
                "    X_train[t]=np.transpose(X_train[t])\r\n",
                "    \r\n",
                "#checking\r\n",
                "# plt.imshow(X_train[0])\r\n",
                "# plt.show()\r\n",
                "\r\n",
                "#for test data  chuyển vị\r\n",
                "for t in range(TEST_SIZE):\r\n",
                "    X_test[t]=np.transpose(X_test[t])\r\n",
                "\r\n",
                "#checking\r\n",
                "plt.imshow(X_train[1])\r\n",
                "plt.show()\r\n",
                "plt.imshow(X_test[1])\r\n",
                "plt.show()\r\n",
                "\r\n",
                "print('Process Complete: Rotated and reversed test and train images!')"
            ],
            "outputs": [
                {
                    "output_type": "display_data",
                    "data": {
                        "text/plain": [
                            "<Figure size 640x480 with 1 Axes>"
                        ],
                        "image/png": "[encoded data removed]"
                    },
                    "metadata": {}
                },
                {
                    "output_type": "display_data",
                    "data": {
                        "text/plain": [
                            "<Figure size 640x480 with 1 Axes>"
                        ],
                        "image/png": "[encoded data removed]"
                    },
                    "metadata": {}
                },
                {
                    "output_type": "stream",
                    "name": "stdout",
                    "text": [
                        "Process Complete: Rotated and reversed test and train images!\n"
                    ]
                }
            ],
            "metadata": {}
        },
        {
            "cell_type": "code",
            "execution_count": 6,
            "source": [
                "X_train = X_train.reshape(X_train.shape[0], 784)\r\n",
                "X_test = X_test.reshape(X_test.shape[0],784)\r\n",
                "\r\n",
                "print(X_train[0].shape)\r\n",
                "print(np.ndim(X_train))"
            ],
            "outputs": [
                {
                    "output_type": "stream",
                    "name": "stdout",
                    "text": [
                        "(784,)\n",
                        "2\n"
                    ]
                }
            ],
            "metadata": {}
        },
        {
            "cell_type": "code",
            "execution_count": 7,
            "source": [
                "from keras.models import Sequential\r\n",
                "from keras import optimizers\r\n",
                "from keras.layers import Convolution2D, MaxPooling2D, Dropout, Flatten, Dense, Reshape, LSTM\r\n",
                "from keras import backend as K\r\n",
                "from keras.constraints import maxnorm\r\n",
                "def resh(ipar):\r\n",
                "    opar = []\r\n",
                "    for image in ipar:\r\n",
                "        opar.append(image.reshape(-1))\r\n",
                "    return np.asarray(opar)\r\n",
                "\r\n",
                "from keras.utils import np_utils\r\n",
                "\r\n",
                "train_images = X_train.astype('float32')\r\n",
                "test_images = X_test.astype('float32')\r\n",
                "\r\n",
                "train_images = resh(train_images)\r\n",
                "test_images = resh(test_images)\r\n",
                "\r\n",
                "\r\n",
                "train_labels = np_utils.to_categorical(y_train, 62)\r\n",
                "test_labels = np_utils.to_categorical(y_test, 62)\r\n",
                "\r\n",
                "\r\n",
                "\r\n",
                "K.set_learning_phase(1)\r\n",
                "\r\n"
            ],
            "outputs": [
                {
                    "output_type": "stream",
                    "name": "stderr",
                    "text": [
                        "C:\\Users\\84168\\miniconda3\\lib\\site-packages\\keras\\backend.py:400: UserWarning: `tf.keras.backend.set_learning_phase` is deprecated and will be removed after 2020-10-11. To update it, simply pass a True/False value to the `training` argument of the `__call__` method of your layer or model.\n",
                        "  warnings.warn('`tf.keras.backend.set_learning_phase` is deprecated and '\n"
                    ]
                }
            ],
            "metadata": {}
        },
        {
            "cell_type": "code",
            "execution_count": 8,
            "source": [
                "clf = svm.SVC()\r\n",
                "\r\n",
                "\r\n",
                "clf.fit(X_train, y_train)\r\n",
                "\r\n"
            ],
            "outputs": [
                {
                    "output_type": "execute_result",
                    "data": {
                        "text/plain": [
                            "SVC()"
                        ]
                    },
                    "metadata": {},
                    "execution_count": 8
                }
            ],
            "metadata": {}
        },
        {
            "cell_type": "code",
            "execution_count": null,
            "source": [],
            "outputs": [],
            "metadata": {}
        },
        {
            "cell_type": "code",
            "execution_count": 9,
            "source": [
                "\r\n",
                "\r\n",
                "# predict\r\n",
                "\r\n",
                "# print(X_train.shape)\r\n",
                "# print(X_train.shape[1])\r\n",
                "#"
            ],
            "outputs": [],
            "metadata": {}
        },
        {
            "cell_type": "code",
            "execution_count": 10,
            "source": [
                "print(\"Predict\")\r\n",
                "\r\n",
                "print(\"------------\")\r\n",
                "\r\n",
                "print(\"------------\")\r\n",
                "\r\n",
                "\r\n",
                "# print(len(X_test[0]))\r\n",
                "\r\n",
                "# i2 = i.reshape(-1,784) / 255.0\r\n",
                "predict = clf.predict(X_test)\r\n",
                "# print(i2)\r\n",
                "\r\n",
                "ac_score = metrics.accuracy_score(y_test, predict)\r\n",
                "# cl_report = metrics.classification_report(y_test,predict)\r\n",
                "f1_score = metrics.f1_score(y_test, predict, average='macro')\r\n",
                "recall_score = metrics.recall_score(y_test, predict, average='macro')\r\n",
                "precision_score = metrics.precision_score(y_test, predict, average='macro')\r\n",
                "print(\"Score: \", ac_score)\r\n",
                "# print(cl_report)\r\n",
                "print('precision_score=', precision_score)\r\n",
                "print('f1_score=', f1_score)\r\n",
                "print('recall_score=', recall_score)\r\n",
                "# print('-----------------------------------')\r\n",
                "\r\n",
                "CM = metrics.confusion_matrix(y_test, predict);\r\n",
                "\r\n",
                "print('Confusion Matrix:\\n', CM);\r\n",
                "\r\n",
                "# Plot non-normalized confusion matrix\r\n",
                "# titles_options = [(\"Confusion matrix, without normalization\", None),\r\n",
                "#                   (\"Normalized confusion matrix\", 'true')]\r\n",
                "# for title, normalize in titles_options:\r\n",
                "#     disp = plot_confusion_matrix(clf, X_test, y_test,\r\n",
                "#                                  display_labels='class_names',\r\n",
                "#                                  cmap=plt.cm.Blues,\r\n",
                "#                                  normalize=normalize)\r\n",
                "#     disp.ax_.set_title(title)\r\n",
                "#\r\n",
                "#     print(title)\r\n",
                "#     print(disp.confusion_matrix)\r\n",
                "#\r\n",
                "# plt.show()\r\n",
                "\r\n",
                "# điều chỉnh parameters\r\n",
                "\r\n",
                "# from sklearn.model_selection import  GridSearchCV\r\n",
                "#\r\n",
                "# parameter_candidates = [\r\n",
                "#     {'C': [0.001,0.01,0.1,5,10,100,1000]}\r\n",
                "# ]\r\n",
                "#\r\n",
                "# clf = GridSearchCV(estimator=svm.SVC(),param_grid=parameter_candidates,n_jobs=-1)\r\n",
                "#\r\n",
                "# clf.fit(X_train,y_train)\r\n",
                "#\r\n",
                "# print('Best score: ',clf.best_score_)\r\n",
                "# print('Best C: ',clf.best_estimator_.C)\r\n",
                "\r\n",
                "# model_json = clf.to_json();\r\n",
                "# with open(\"model10.json\", \"w\") as json_file:\r\n",
                "#     json_file.write(model_json);\r\n",
                "# saves the model info as json file\r\n",
                "\r\n",
                "# clf.save_weights(\"model10.h5\")\r\n",
                "\r\n",
                "from joblib import dump, load\r\n",
                "\r\n",
                "dump(clf, 'mnist-svm1.joblib')\r\n",
                "\r\n",
                "print('save file')\r\n",
                "\r\n",
                "# load file\r\n",
                "# clf = load('mnist-svm.joblib')"
            ],
            "outputs": [
                {
                    "output_type": "stream",
                    "name": "stdout",
                    "text": [
                        "Predict\n",
                        "------------\n",
                        "------------\n"
                    ]
                },
                {
                    "output_type": "stream",
                    "name": "stderr",
                    "text": [
                        "C:\\Users\\84168\\miniconda3\\lib\\site-packages\\sklearn\\metrics\\_classification.py:1248: UndefinedMetricWarning: Precision is ill-defined and being set to 0.0 in labels with no predicted samples. Use `zero_division` parameter to control this behavior.\n",
                        "  _warn_prf(average, modifier, msg_start, len(result))\n"
                    ]
                },
                {
                    "output_type": "stream",
                    "name": "stdout",
                    "text": [
                        "Score:  0.84214\n",
                        "precision_score= 0.7426991712365805\n",
                        "f1_score= 0.6874213828769752\n",
                        "recall_score= 0.6806359797896392\n",
                        "Confusion Matrix:\n",
                        " [[2027    0    1 ...    0    0    0]\n",
                        " [   0 2698    5 ...    0    0    0]\n",
                        " [   4    2 2454 ...    0    0   12]\n",
                        " ...\n",
                        " [   0    1    1 ...  119    3    1]\n",
                        " [   1    1    0 ...    0   25    0]\n",
                        " [   0    0   67 ...    1    0  100]]\n",
                        "save file\n"
                    ]
                }
            ],
            "metadata": {}
        }
    ],
    "metadata": {
        "orig_nbformat": 4,
        "language_info": {
            "name": "python",
            "version": "3.9.5",
            "mimetype": "text/x-python",
            "codemirror_mode": {
                "name": "ipython",
                "version": 3
            },
            "pygments_lexer": "ipython3",
            "nbconvert_exporter": "python",
            "file_extension": ".py"
        },
        "kernelspec": {
            "name": "python3",
            "display_name": "Python 3.9.5 64-bit ('base': conda)"
        },
        "interpreter": {
            "hash": "1196f9ba081f55f069e7debc0e337ad2ff49b2f14b74d30947eb8ea3e5b0572e"
        }
    },
    "nbformat": 4,
    "nbformat_minor": 2
}